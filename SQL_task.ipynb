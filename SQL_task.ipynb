{
  "nbformat": 4,
  "nbformat_minor": 0,
  "metadata": {
    "colab": {
      "provenance": [],
      "authorship_tag": "ABX9TyNU7MfWS7/BlLQ3bxbRJetT",
      "include_colab_link": true
    },
    "kernelspec": {
      "name": "python3",
      "display_name": "Python 3"
    },
    "language_info": {
      "name": "python"
    }
  },
  "cells": [
    {
      "cell_type": "markdown",
      "metadata": {
        "id": "view-in-github",
        "colab_type": "text"
      },
      "source": [
        "<a href=\"https://colab.research.google.com/github/lalith-kumar-raju/Infosys-Springboard-6.0/blob/main/SQL_task.ipynb\" target=\"_parent\"><img src=\"https://colab.research.google.com/assets/colab-badge.svg\" alt=\"Open In Colab\"/></a>"
      ]
    },
    {
      "cell_type": "code",
      "source": [
        "import sqlite3\n",
        "import pandas as pd"
      ],
      "metadata": {
        "id": "5vEqJ09T0swg"
      },
      "execution_count": 2,
      "outputs": []
    },
    {
      "cell_type": "code",
      "source": [
        "# Create a new in-memory SQLite database\n",
        "conn = sqlite3.connect(\":memory:\")\n",
        "cursor = conn.cursor()"
      ],
      "metadata": {
        "id": "4Yd410520vCv"
      },
      "execution_count": 3,
      "outputs": []
    },
    {
      "cell_type": "code",
      "source": [
        "# Step 1: Create a small sample table\n",
        "cursor.execute(\"\"\"\n",
        "CREATE TABLE Malware (\n",
        "    id INTEGER,\n",
        "    feature1 REAL,\n",
        "    feature2 REAL,\n",
        "    feature3 TEXT,\n",
        "    label TEXT\n",
        ")\n",
        "\"\"\")"
      ],
      "metadata": {
        "colab": {
          "base_uri": "https://localhost:8080/"
        },
        "id": "WGY3Xy8F0xpi",
        "outputId": "55687075-6993-4136-d0c5-02e8aaa1d74e"
      },
      "execution_count": 4,
      "outputs": [
        {
          "output_type": "execute_result",
          "data": {
            "text/plain": [
              "<sqlite3.Cursor at 0x7830299e1540>"
            ]
          },
          "metadata": {},
          "execution_count": 4
        }
      ]
    },
    {
      "cell_type": "code",
      "source": [
        "# Step 2: Insert some sample data\n",
        "data = [\n",
        "    (1, 120.5, 200.1, 'X1', 'Malicious'),\n",
        "    (2, 85.3, 150.6, 'X2', 'Benign'),\n",
        "    (3, 95.7, 180.2, 'X1', 'Malicious'),\n",
        "    (4, None, 210.0, 'X3', 'Malicious'),\n",
        "    (5, 60.2, None, 'X2', 'Benign'),\n",
        "    (6, 120.5, 200.1, 'X1', 'Malicious')  # duplicate row\n",
        "]\n",
        "cursor.executemany(\"INSERT INTO Malware VALUES (?, ?, ?, ?, ?)\", data)\n",
        "conn.commit()\n",
        "\n",
        "# Helper function to run query and show result\n",
        "def run_query(query):\n",
        "    return pd.read_sql_query(query, conn)"
      ],
      "metadata": {
        "id": "iOhOuGKh048-"
      },
      "execution_count": 5,
      "outputs": []
    },
    {
      "cell_type": "code",
      "source": [
        "# Step 3: Perform the SQL operations\n",
        "\n",
        "# 1. Shape (row count)\n",
        "print(\"1. Shape:\")\n",
        "print(run_query(\"SELECT COUNT(*) AS total_rows FROM Malware\"))"
      ],
      "metadata": {
        "colab": {
          "base_uri": "https://localhost:8080/"
        },
        "id": "WanFsXyn095R",
        "outputId": "41d47645-3966-4d5c-b0ab-3e869cce52c2"
      },
      "execution_count": 6,
      "outputs": [
        {
          "output_type": "stream",
          "name": "stdout",
          "text": [
            "1. Shape:\n",
            "   total_rows\n",
            "0           6\n"
          ]
        }
      ]
    },
    {
      "cell_type": "code",
      "source": [
        "# 2. Column names\n",
        "print(\"\\n2. Column names:\")\n",
        "print(run_query(\"PRAGMA table_info(Malware)\"))"
      ],
      "metadata": {
        "colab": {
          "base_uri": "https://localhost:8080/"
        },
        "id": "u-P9RwX51HSo",
        "outputId": "cc43f632-3fe9-49cc-f4d4-a91df1949296"
      },
      "execution_count": 7,
      "outputs": [
        {
          "output_type": "stream",
          "name": "stdout",
          "text": [
            "\n",
            "2. Column names:\n",
            "   cid      name     type  notnull dflt_value  pk\n",
            "0    0        id  INTEGER        0       None   0\n",
            "1    1  feature1     REAL        0       None   0\n",
            "2    2  feature2     REAL        0       None   0\n",
            "3    3  feature3     TEXT        0       None   0\n",
            "4    4     label     TEXT        0       None   0\n"
          ]
        }
      ]
    },
    {
      "cell_type": "code",
      "source": [
        "# 3. Data types\n",
        "print(\"\\n3. Data types:\")\n",
        "print(run_query(\"PRAGMA table_info(Malware)\"))"
      ],
      "metadata": {
        "colab": {
          "base_uri": "https://localhost:8080/"
        },
        "id": "Vqrvf9yW1JlA",
        "outputId": "9dc4914e-e585-493e-ac6d-2fefdf77b5d6"
      },
      "execution_count": 8,
      "outputs": [
        {
          "output_type": "stream",
          "name": "stdout",
          "text": [
            "\n",
            "3. Data types:\n",
            "   cid      name     type  notnull dflt_value  pk\n",
            "0    0        id  INTEGER        0       None   0\n",
            "1    1  feature1     REAL        0       None   0\n",
            "2    2  feature2     REAL        0       None   0\n",
            "3    3  feature3     TEXT        0       None   0\n",
            "4    4     label     TEXT        0       None   0\n"
          ]
        }
      ]
    },
    {
      "cell_type": "code",
      "source": [
        "# 4. Missing values\n",
        "print(\"\\n4. Missing values:\")\n",
        "print(run_query(\"\"\"\n",
        "SELECT\n",
        "    SUM(CASE WHEN feature1 IS NULL THEN 1 ELSE 0 END) AS missing_feature1,\n",
        "    SUM(CASE WHEN feature2 IS NULL THEN 1 ELSE 0 END) AS missing_feature2,\n",
        "    SUM(CASE WHEN feature3 IS NULL THEN 1 ELSE 0 END) AS missing_feature3,\n",
        "    SUM(CASE WHEN label IS NULL THEN 1 ELSE 0 END) AS missing_label\n",
        "FROM Malware\n",
        "\"\"\"))"
      ],
      "metadata": {
        "colab": {
          "base_uri": "https://localhost:8080/"
        },
        "id": "2wh1qg5V1L4h",
        "outputId": "ebde55db-169d-4ec1-9aa5-1314ed565da1"
      },
      "execution_count": 9,
      "outputs": [
        {
          "output_type": "stream",
          "name": "stdout",
          "text": [
            "\n",
            "4. Missing values:\n",
            "   missing_feature1  missing_feature2  missing_feature3  missing_label\n",
            "0                 1                 1                 0              0\n"
          ]
        }
      ]
    },
    {
      "cell_type": "code",
      "source": [
        "# 5. Summary statistics\n",
        "print(\"\\n5. Summary statistics:\")\n",
        "print(run_query(\"SELECT AVG(feature1) AS avg_feature1, MIN(feature1) AS min_feature1, MAX(feature1) AS max_feature1 FROM Malware\"))"
      ],
      "metadata": {
        "colab": {
          "base_uri": "https://localhost:8080/"
        },
        "id": "wZu39nd11OOI",
        "outputId": "f890c5af-d9f0-4e07-d766-6e11a9abc81a"
      },
      "execution_count": 10,
      "outputs": [
        {
          "output_type": "stream",
          "name": "stdout",
          "text": [
            "\n",
            "5. Summary statistics:\n",
            "   avg_feature1  min_feature1  max_feature1\n",
            "0         96.44          60.2         120.5\n"
          ]
        }
      ]
    },
    {
      "cell_type": "code",
      "source": [
        "# 6. Value counts\n",
        "print(\"\\n6. Value counts (labels):\")\n",
        "print(run_query(\"SELECT label, COUNT(*) AS freq FROM Malware GROUP BY label\"))"
      ],
      "metadata": {
        "colab": {
          "base_uri": "https://localhost:8080/"
        },
        "id": "GaWx6z8e1OLp",
        "outputId": "d0a82e1a-12e5-4f9e-b1ac-d70670a839b7"
      },
      "execution_count": 11,
      "outputs": [
        {
          "output_type": "stream",
          "name": "stdout",
          "text": [
            "\n",
            "6. Value counts (labels):\n",
            "       label  freq\n",
            "0     Benign     2\n",
            "1  Malicious     4\n"
          ]
        }
      ]
    },
    {
      "cell_type": "code",
      "source": [
        "# 7. Filter rows\n",
        "print(\"\\n7. Filter rows (Malicious only):\")\n",
        "print(run_query(\"SELECT * FROM Malware WHERE label = 'Malicious'\"))"
      ],
      "metadata": {
        "colab": {
          "base_uri": "https://localhost:8080/"
        },
        "id": "wCe6E7CD1OJY",
        "outputId": "fc98bf30-9d5c-4e7c-c824-aad591501d7d"
      },
      "execution_count": 12,
      "outputs": [
        {
          "output_type": "stream",
          "name": "stdout",
          "text": [
            "\n",
            "7. Filter rows (Malicious only):\n",
            "   id  feature1  feature2 feature3      label\n",
            "0   1     120.5     200.1       X1  Malicious\n",
            "1   3      95.7     180.2       X1  Malicious\n",
            "2   4       NaN     210.0       X3  Malicious\n",
            "3   6     120.5     200.1       X1  Malicious\n"
          ]
        }
      ]
    },
    {
      "cell_type": "code",
      "source": [
        "# 8. Sort values\n",
        "print(\"\\n8. Sort by feature1:\")\n",
        "print(run_query(\"SELECT * FROM Malware ORDER BY feature1 DESC\"))"
      ],
      "metadata": {
        "colab": {
          "base_uri": "https://localhost:8080/"
        },
        "id": "FhLEmcdg1U9k",
        "outputId": "9c72d2e0-aa30-4fd2-d663-038942415817"
      },
      "execution_count": 13,
      "outputs": [
        {
          "output_type": "stream",
          "name": "stdout",
          "text": [
            "\n",
            "8. Sort by feature1:\n",
            "   id  feature1  feature2 feature3      label\n",
            "0   1     120.5     200.1       X1  Malicious\n",
            "1   6     120.5     200.1       X1  Malicious\n",
            "2   3      95.7     180.2       X1  Malicious\n",
            "3   2      85.3     150.6       X2     Benign\n",
            "4   5      60.2       NaN       X2     Benign\n",
            "5   4       NaN     210.0       X3  Malicious\n"
          ]
        }
      ]
    },
    {
      "cell_type": "code",
      "source": [
        "# 9. Unique values\n",
        "print(\"\\n9. Unique labels:\")\n",
        "print(run_query(\"SELECT DISTINCT label FROM Malware\"))"
      ],
      "metadata": {
        "colab": {
          "base_uri": "https://localhost:8080/"
        },
        "id": "7wxgtUgk1U7W",
        "outputId": "696f0ee4-1d52-470b-c80c-23590cfe8426"
      },
      "execution_count": 14,
      "outputs": [
        {
          "output_type": "stream",
          "name": "stdout",
          "text": [
            "\n",
            "9. Unique labels:\n",
            "       label\n",
            "0  Malicious\n",
            "1     Benign\n"
          ]
        }
      ]
    },
    {
      "cell_type": "code",
      "source": [
        "# 10. Group by and count\n",
        "print(\"\\n10. Group by label (count):\")\n",
        "print(run_query(\"SELECT label, COUNT(*) AS cnt FROM Malware GROUP BY label\"))"
      ],
      "metadata": {
        "colab": {
          "base_uri": "https://localhost:8080/"
        },
        "id": "RiVeZaz51U48",
        "outputId": "729637fd-f845-46b4-8aeb-54904598384c"
      },
      "execution_count": 15,
      "outputs": [
        {
          "output_type": "stream",
          "name": "stdout",
          "text": [
            "\n",
            "10. Group by label (count):\n",
            "       label  cnt\n",
            "0     Benign    2\n",
            "1  Malicious    4\n"
          ]
        }
      ]
    },
    {
      "cell_type": "code",
      "source": [
        "# 11. Group by and average\n",
        "print(\"\\n11. Group by label (avg feature1):\")\n",
        "print(run_query(\"SELECT label, AVG(feature1) AS avg_feature1 FROM Malware GROUP BY label\"))"
      ],
      "metadata": {
        "colab": {
          "base_uri": "https://localhost:8080/"
        },
        "id": "vFvh5uDv1U2y",
        "outputId": "2f4cd457-2365-4838-cc2a-7ce775dec4a0"
      },
      "execution_count": 16,
      "outputs": [
        {
          "output_type": "stream",
          "name": "stdout",
          "text": [
            "\n",
            "11. Group by label (avg feature1):\n",
            "       label  avg_feature1\n",
            "0     Benign     72.750000\n",
            "1  Malicious    112.233333\n"
          ]
        }
      ]
    },
    {
      "cell_type": "code",
      "source": [
        "# 12. Top N rows\n",
        "print(\"\\n12. Top 3 rows:\")\n",
        "print(run_query(\"SELECT * FROM Malware LIMIT 3\"))"
      ],
      "metadata": {
        "colab": {
          "base_uri": "https://localhost:8080/"
        },
        "id": "wN1QYOJM1cxd",
        "outputId": "77a595f9-f655-4738-cfea-c64cc19c89bf"
      },
      "execution_count": 17,
      "outputs": [
        {
          "output_type": "stream",
          "name": "stdout",
          "text": [
            "\n",
            "12. Top 3 rows:\n",
            "   id  feature1  feature2 feature3      label\n",
            "0   1     120.5     200.1       X1  Malicious\n",
            "1   2      85.3     150.6       X2     Benign\n",
            "2   3      95.7     180.2       X1  Malicious\n"
          ]
        }
      ]
    },
    {
      "cell_type": "code",
      "source": [
        "# 13. Check duplicates\n",
        "print(\"\\n13. Duplicates:\")\n",
        "print(run_query(\"SELECT id, COUNT(*) AS cnt FROM Malware GROUP BY id HAVING COUNT(*) > 1\"))"
      ],
      "metadata": {
        "colab": {
          "base_uri": "https://localhost:8080/"
        },
        "id": "uvsSvzwy1cu7",
        "outputId": "3e9c4942-c887-4f06-fe88-33d7cab69cc1"
      },
      "execution_count": 18,
      "outputs": [
        {
          "output_type": "stream",
          "name": "stdout",
          "text": [
            "\n",
            "13. Duplicates:\n",
            "Empty DataFrame\n",
            "Columns: [id, cnt]\n",
            "Index: []\n"
          ]
        }
      ]
    },
    {
      "cell_type": "code",
      "source": [
        "# 14. Remove duplicates (create new table)\n",
        "cursor.execute(\"CREATE TABLE Malware_no_duplicates AS SELECT DISTINCT * FROM Malware\")\n",
        "print(\"\\n14. Malware_no_duplicates table created.\")"
      ],
      "metadata": {
        "colab": {
          "base_uri": "https://localhost:8080/"
        },
        "id": "2RCQiu431csP",
        "outputId": "b6c53051-67b8-4353-ceef-41d1014829b3"
      },
      "execution_count": 19,
      "outputs": [
        {
          "output_type": "stream",
          "name": "stdout",
          "text": [
            "\n",
            "14. Malware_no_duplicates table created.\n"
          ]
        }
      ]
    },
    {
      "cell_type": "code",
      "source": [
        "# 15. Correlation (SQLite doesn’t support corr, so we approximate with covariance formula if needed)\n",
        "print(\"\\n15. Correlation (manual calc not supported in SQLite). Skipped.\")"
      ],
      "metadata": {
        "colab": {
          "base_uri": "https://localhost:8080/"
        },
        "id": "eeQFRJNC1cp6",
        "outputId": "aa41f731-976a-4c4a-8956-b10f38c32a6e"
      },
      "execution_count": 20,
      "outputs": [
        {
          "output_type": "stream",
          "name": "stdout",
          "text": [
            "\n",
            "15. Correlation (manual calc not supported in SQLite). Skipped.\n"
          ]
        }
      ]
    },
    {
      "cell_type": "code",
      "source": [
        "# 16. Replace NULL\n",
        "print(\"\\n16. Replace NULL in feature3:\")\n",
        "print(run_query(\"SELECT id, COALESCE(feature3, 'Unknown') AS updated_feature3 FROM Malware\"))"
      ],
      "metadata": {
        "colab": {
          "base_uri": "https://localhost:8080/"
        },
        "id": "BSuAL9RU1cnL",
        "outputId": "ba8dd0e3-2561-48b8-bc9e-95599f16a294"
      },
      "execution_count": 21,
      "outputs": [
        {
          "output_type": "stream",
          "name": "stdout",
          "text": [
            "\n",
            "16. Replace NULL in feature3:\n",
            "   id updated_feature3\n",
            "0   1               X1\n",
            "1   2               X2\n",
            "2   3               X1\n",
            "3   4               X3\n",
            "4   5               X2\n",
            "5   6               X1\n"
          ]
        }
      ]
    },
    {
      "cell_type": "code",
      "source": [
        "# 17. Join example (create second table)\n",
        "cursor.execute(\"\"\"\n",
        "CREATE TABLE Details (\n",
        "    malware_id INTEGER,\n",
        "    extra_info TEXT\n",
        ")\n",
        "\"\"\")\n",
        "cursor.executemany(\"INSERT INTO Details VALUES (?, ?)\", [(1, \"High risk\"), (2, \"Low risk\"), (3, \"Medium risk\")])\n",
        "conn.commit()\n",
        "\n",
        "print(\"\\n17. Join with Details:\")\n",
        "print(run_query(\"SELECT m.id, m.label, d.extra_info FROM Malware m LEFT JOIN Details d ON m.id = d.malware_id\"))"
      ],
      "metadata": {
        "colab": {
          "base_uri": "https://localhost:8080/"
        },
        "id": "67T--xT31oAN",
        "outputId": "69ac4c5a-f2e3-4490-a157-cd210c1620dd"
      },
      "execution_count": 22,
      "outputs": [
        {
          "output_type": "stream",
          "name": "stdout",
          "text": [
            "\n",
            "17. Join with Details:\n",
            "   id      label   extra_info\n",
            "0   1  Malicious    High risk\n",
            "1   2     Benign     Low risk\n",
            "2   3  Malicious  Medium risk\n",
            "3   4  Malicious         None\n",
            "4   5     Benign         None\n",
            "5   6  Malicious         None\n"
          ]
        }
      ]
    },
    {
      "cell_type": "code",
      "source": [
        "# 18. Aggregate multiple stats\n",
        "print(\"\\n18. Multiple aggregates:\")\n",
        "print(run_query(\"SELECT AVG(feature1) AS avg_f1, SUM(feature2) AS sum_f2, COUNT(*) AS row_count FROM Malware\"))"
      ],
      "metadata": {
        "colab": {
          "base_uri": "https://localhost:8080/"
        },
        "id": "81iYr1cE1n92",
        "outputId": "176ba635-0412-4ba7-d3c6-b2fc59268073"
      },
      "execution_count": 23,
      "outputs": [
        {
          "output_type": "stream",
          "name": "stdout",
          "text": [
            "\n",
            "18. Multiple aggregates:\n",
            "   avg_f1  sum_f2  row_count\n",
            "0   96.44   941.0          6\n"
          ]
        }
      ]
    },
    {
      "cell_type": "code",
      "source": [
        "# 19. Conditional column\n",
        "print(\"\\n19. Conditional (High/Low):\")\n",
        "print(run_query(\"SELECT feature1, CASE WHEN feature1 > 100 THEN 'High' ELSE 'Low' END AS f1_category FROM Malware\"))"
      ],
      "metadata": {
        "colab": {
          "base_uri": "https://localhost:8080/"
        },
        "id": "Dkn8x4kz1n7c",
        "outputId": "6a024a2c-fcf9-4d61-cffc-3b73d33de0d5"
      },
      "execution_count": 24,
      "outputs": [
        {
          "output_type": "stream",
          "name": "stdout",
          "text": [
            "\n",
            "19. Conditional (High/Low):\n",
            "   feature1 f1_category\n",
            "0     120.5        High\n",
            "1      85.3         Low\n",
            "2      95.7         Low\n",
            "3       NaN         Low\n",
            "4      60.2         Low\n",
            "5     120.5        High\n"
          ]
        }
      ]
    },
    {
      "cell_type": "code",
      "execution_count": 25,
      "metadata": {
        "colab": {
          "base_uri": "https://localhost:8080/"
        },
        "id": "T5mF7uH0xQg-",
        "outputId": "f73d81be-dd1c-44c6-eb35-4ee726fef036"
      },
      "outputs": [
        {
          "output_type": "stream",
          "name": "stdout",
          "text": [
            "\n",
            "20. Rows with NULLs deleted.\n",
            "   id  feature1  feature2 feature3      label\n",
            "0   1     120.5     200.1       X1  Malicious\n",
            "1   2      85.3     150.6       X2     Benign\n",
            "2   3      95.7     180.2       X1  Malicious\n",
            "3   6     120.5     200.1       X1  Malicious\n"
          ]
        }
      ],
      "source": [
        "# 20. Delete rows with NULLs\n",
        "cursor.execute(\"DELETE FROM Malware WHERE feature1 IS NULL OR feature2 IS NULL\")\n",
        "print(\"\\n20. Rows with NULLs deleted.\")\n",
        "print(run_query(\"SELECT * FROM Malware\"))\n"
      ]
    }
  ]
}